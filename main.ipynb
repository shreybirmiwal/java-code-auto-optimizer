{
 "cells": [
  {
   "cell_type": "code",
   "execution_count": 16,
   "metadata": {},
   "outputs": [
    {
     "data": {
      "text/plain": [
       "'efficiency_testing/linked_list_sample_code.java'"
      ]
     },
     "execution_count": 16,
     "metadata": {},
     "output_type": "execute_result"
    }
   ],
   "source": [
    "import shutil\n",
    "\n",
    "file_loc = 'sample_code.java'\n",
    "array_list_loc = 'efficiency_testing/array_list_sample_code.java'\n",
    "linked_list_loc = 'efficiency_testing/linked_list_sample_code.java'\n",
    "\n",
    "#make copies before editing\n",
    "shutil.copy(file_loc, array_list_loc)\n",
    "shutil.copy(file_loc, linked_list_loc)\n"
   ]
  },
  {
   "cell_type": "code",
   "execution_count": 17,
   "metadata": {},
   "outputs": [],
   "source": [
    "name_var = input(\"What is the name of the variable you want to efficiency test\")"
   ]
  },
  {
   "cell_type": "code",
   "execution_count": 18,
   "metadata": {},
   "outputs": [],
   "source": [
    "#open, edit,save array list file\n",
    "with open(array_list_loc, 'r') as file:\n",
    "    content = file.read()\n",
    "    updated_content = content.replace('public class sample_code {', 'public class array_list_sample_code {')\n",
    "    if 'import java.util.ArrayList;' not in updated_content:\n",
    "        updated_content = 'import java.util.ArrayList;\\n' + updated_content\n",
    "\n",
    "    updated_content = updated_content.replace(f'LinkedList<Integer> {name_var} = new LinkedList<Integer>();', f'ArrayList<Integer> {name_var} = new ArrayList<Integer>();')\n",
    "\n",
    "\n",
    "with open(array_list_loc, 'w') as file:\n",
    "    file.write(updated_content)"
   ]
  },
  {
   "cell_type": "code",
   "execution_count": 19,
   "metadata": {},
   "outputs": [],
   "source": [
    "#open, edit,save array list file\n",
    "with open(linked_list_loc, 'r') as file:\n",
    "    content = file.read()\n",
    "    updated_content = content.replace('public class sample_code {', 'public class linked_list_sample_code {')\n",
    "        \n",
    "    if 'import java.util.LinkedList;' not in updated_content:\n",
    "        updated_content = 'import java.util.LinkedList;\\n' + updated_content\n",
    "\n",
    "    updated_content = updated_content.replace(f'ArrayList<Integer> {name_var} = new ArrayList<Integer>();', f'LinkedList<Integer> {name_var} = new LinkedList<Integer>();')\n",
    "\n",
    "with open(linked_list_loc, 'w') as file:\n",
    "    file.write(updated_content)"
   ]
  },
  {
   "cell_type": "code",
   "execution_count": 20,
   "metadata": {},
   "outputs": [
    {
     "name": "stdout",
     "output_type": "stream",
     "text": [
      "Time taken for Array List implementation: 0.0842752456665039 seconds\n",
      "Time taken for Linked List implementation: 0.08375811576843262 seconds\n",
      "Linked list is faster.\n",
      "efficiency_testing/linked_list_sample_code.java is your updated code\n"
     ]
    }
   ],
   "source": [
    "# testing of efficiency\n",
    "import subprocess\n",
    "import time\n",
    "\n",
    "def run_java_file(java_file):\n",
    "    start_time = time.time()\n",
    "    subprocess.run(['java', '-cp', '.', java_file], stdout=subprocess.PIPE, stderr=subprocess.PIPE)\n",
    "    end_time = time.time()\n",
    "    return end_time - start_time\n",
    "\n",
    "array_list_loc = 'efficiency_testing/array_list_sample_code.java'\n",
    "linked_list_loc = 'efficiency_testing/linked_list_sample_code.java'\n",
    "\n",
    "time_array = run_java_file(array_list_loc)\n",
    "print(f'Time taken for Array List implementation: {time_array} seconds')\n",
    "\n",
    "time_linked = run_java_file(linked_list_loc)\n",
    "print(f'Time taken for Linked List implementation: {time_linked} seconds')\n",
    "\n",
    "# Compare the execution times\n",
    "if time_array < time_linked:\n",
    "    print('Arraylist is faster.')\n",
    "    print('efficiency_testing/array_list_sample_code.java is your updated code')\n",
    "elif time_array > time_linked:\n",
    "    print('Linked list is faster.')\n",
    "    print('efficiency_testing/linked_list_sample_code.java is your updated code')\n",
    "else:\n",
    "    print('Both Java files have similar execution times.')\n",
    "\n",
    "\n",
    "\n"
   ]
  }
 ],
 "metadata": {
  "kernelspec": {
   "display_name": "Python 3",
   "language": "python",
   "name": "python3"
  },
  "language_info": {
   "codemirror_mode": {
    "name": "ipython",
    "version": 3
   },
   "file_extension": ".py",
   "mimetype": "text/x-python",
   "name": "python",
   "nbconvert_exporter": "python",
   "pygments_lexer": "ipython3",
   "version": "3.12.0"
  }
 },
 "nbformat": 4,
 "nbformat_minor": 2
}
